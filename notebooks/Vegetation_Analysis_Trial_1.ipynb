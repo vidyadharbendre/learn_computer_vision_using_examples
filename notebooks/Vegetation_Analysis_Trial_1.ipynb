{
 "cells": [
  {
   "cell_type": "code",
   "execution_count": 5,
   "id": "d435d661",
   "metadata": {},
   "outputs": [
    {
     "data": {
      "image/png": "[encoded data removed]",
      "text/plain": [
       "<Figure size 640x480 with 1 Axes>"
      ]
     },
     "metadata": {},
     "output_type": "display_data"
    }
   ],
   "source": [
    "from PIL import Image\n",
    "import numpy as np\n",
    "import matplotlib.pyplot as plt\n",
    "import os\n",
    "\n",
    "# Define the image path\n",
    "image_path = os.path.join(os.getcwd(), 'data', 'images', 'vegetation_image_1.jpeg')  # Replace with your image path\n",
    "\n",
    "# Load the image in grayscale mode and convert to RGB\n",
    "gray_image = Image.open(image_path).convert('L')  # 'L' mode represents grayscale\n",
    "image = gray_image.convert('RGB')  # Convert grayscale to RGB\n",
    "rgb_array = np.array(image)\n",
    "\n",
    "# Create a synthetic Near-Infrared (NIR) channel for demonstration\n",
    "# Replace this with actual NIR data if available\n",
    "nir_channel = rgb_array[:, :, 0]  # Example: Use the Red channel as synthetic NIR data\n",
    "\n",
    "# Function to compute NDVI\n",
    "def compute_ndvi(rgb, nir):\n",
    "    \"\"\"\n",
    "    Compute NDVI (Normalized Difference Vegetation Index).\n",
    "    \n",
    "    Args:\n",
    "        rgb (numpy array): RGB image as a NumPy array.\n",
    "        nir (numpy array): NIR channel as a NumPy array.\n",
    "    \n",
    "    Returns:\n",
    "        numpy array: NDVI values.\n",
    "    \"\"\"\n",
    "    red = rgb[:, :, 0] / 255.0  # Normalize Red channel\n",
    "    nir = nir / 255.0  # Normalize NIR channel\n",
    "    ndvi = (nir - red) / (nir + red + 1e-6)  # Avoid division by zero\n",
    "    return ndvi\n",
    "\n",
    "# Compute NDVI\n",
    "ndvi = compute_ndvi(rgb_array, nir_channel)\n",
    "\n",
    "# Threshold NDVI to identify vegetation areas\n",
    "ndvi_threshold = (ndvi > 0.3).astype(np.uint8)\n",
    "\n",
    "# Visualize NDVI threshold\n",
    "plt.imshow(ndvi_threshold, cmap=\"Greens\")\n",
    "plt.title(\"Vegetation Areas\")\n",
    "plt.axis(\"off\")\n",
    "plt.show()\n"
   ]
  },
  {
   "cell_type": "code",
   "execution_count": null,
   "id": "598c7f2b",
   "metadata": {},
   "outputs": [],
   "source": []
  }
 ],
 "metadata": {
  "kernelspec": {
   "display_name": "Python 3 (ipykernel)",
   "language": "python",
   "name": "python3"
  },
  "language_info": {
   "codemirror_mode": {
    "name": "ipython",
    "version": 3
   },
   "file_extension": ".py",
   "mimetype": "text/x-python",
   "name": "python",
   "nbconvert_exporter": "python",
   "pygments_lexer": "ipython3",
   "version": "3.9.16"
  }
 },
 "nbformat": 4,
 "nbformat_minor": 5
}
