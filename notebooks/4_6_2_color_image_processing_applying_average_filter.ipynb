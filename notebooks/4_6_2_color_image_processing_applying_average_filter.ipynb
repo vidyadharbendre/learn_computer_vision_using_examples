{
 "cells": [
  {
   "cell_type": "code",
   "execution_count": 5,
   "id": "279ce941",
   "metadata": {},
   "outputs": [
    {
     "name": "stderr",
     "output_type": "stream",
     "text": [
      "[ WARN:0@312575.806] global loadsave.cpp:248 findDecoder imread_('/Users/vidyadharbendre/workspace/learn_computer_vision_using_examples/notebooks/data/images/Lena-color.jpg'): can't open/read file: check file path/integrity\n"
     ]
    },
    {
     "ename": "error",
     "evalue": "OpenCV(4.9.0) /Users/xperience/GHA-OpenCV-Python2/_work/opencv-python/opencv-python/opencv/modules/imgproc/src/color.cpp:196: error: (-215:Assertion failed) !_src.empty() in function 'cvtColor'\n",
     "output_type": "error",
     "traceback": [
      "\u001b[0;31m---------------------------------------------------------------------------\u001b[0m",
      "\u001b[0;31merror\u001b[0m                                     Traceback (most recent call last)",
      "Cell \u001b[0;32mIn[5], line 11\u001b[0m\n\u001b[1;32m      8\u001b[0m image_path \u001b[38;5;241m=\u001b[39m os\u001b[38;5;241m.\u001b[39mpath\u001b[38;5;241m.\u001b[39mjoin(os\u001b[38;5;241m.\u001b[39mgetcwd(), \u001b[38;5;124m'\u001b[39m\u001b[38;5;124mdata\u001b[39m\u001b[38;5;124m'\u001b[39m, \u001b[38;5;124m'\u001b[39m\u001b[38;5;124mimages\u001b[39m\u001b[38;5;124m'\u001b[39m, \u001b[38;5;124m'\u001b[39m\u001b[38;5;124mLena-color.jpg\u001b[39m\u001b[38;5;124m'\u001b[39m)  \u001b[38;5;66;03m# Replace with your image path\u001b[39;00m\n\u001b[1;32m     10\u001b[0m image \u001b[38;5;241m=\u001b[39m cv2\u001b[38;5;241m.\u001b[39mimread(image_path)\n\u001b[0;32m---> 11\u001b[0m image \u001b[38;5;241m=\u001b[39m \u001b[43mcv2\u001b[49m\u001b[38;5;241;43m.\u001b[39;49m\u001b[43mcvtColor\u001b[49m\u001b[43m(\u001b[49m\u001b[43mimage\u001b[49m\u001b[43m,\u001b[49m\u001b[43m \u001b[49m\u001b[43mcv2\u001b[49m\u001b[38;5;241;43m.\u001b[39;49m\u001b[43mCOLOR_BGR2RGB\u001b[49m\u001b[43m)\u001b[49m  \u001b[38;5;66;03m# Convert BGR to RGB if needed\u001b[39;00m\n\u001b[1;32m     13\u001b[0m \u001b[38;5;66;03m# Step 2: Apply zero padding (extend by 1 pixel on each side) to make it larger\u001b[39;00m\n\u001b[1;32m     14\u001b[0m padded_image \u001b[38;5;241m=\u001b[39m np\u001b[38;5;241m.\u001b[39mpad(image, ((\u001b[38;5;241m1\u001b[39m, \u001b[38;5;241m1\u001b[39m), (\u001b[38;5;241m1\u001b[39m, \u001b[38;5;241m1\u001b[39m), (\u001b[38;5;241m0\u001b[39m, \u001b[38;5;241m0\u001b[39m)), mode\u001b[38;5;241m=\u001b[39m\u001b[38;5;124m'\u001b[39m\u001b[38;5;124mconstant\u001b[39m\u001b[38;5;124m'\u001b[39m, constant_values\u001b[38;5;241m=\u001b[39m\u001b[38;5;241m0\u001b[39m)\n",
      "\u001b[0;31merror\u001b[0m: OpenCV(4.9.0) /Users/xperience/GHA-OpenCV-Python2/_work/opencv-python/opencv-python/opencv/modules/imgproc/src/color.cpp:196: error: (-215:Assertion failed) !_src.empty() in function 'cvtColor'\n"
     ]
    }
   ],
   "source": [
    "import os\n",
    "import cv2\n",
    "import numpy as np\n",
    "import matplotlib.pyplot as plt\n",
    "\n",
    "# Step 1: Load the sample image\n",
    "image_path = os.path.join(os.getcwd(), 'data', 'images', 'roses.jpg')  # Replace with your image path\n",
    "\n",
    "image = cv2.imread(image_path)\n",
    "image = cv2.cvtColor(image, cv2.COLOR_BGR2RGB)  # Convert BGR to RGB if needed\n",
    "\n",
    "# Step 2: Apply zero padding (extend by 1 pixel on each side) to make it larger\n",
    "padded_image = np.pad(image, ((1, 1), (1, 1), (0, 0)), mode='constant', constant_values=0)\n",
    "\n",
    "# Step 3: Define a function to apply the 3x3 average filter manually\n",
    "def apply_average_filter_manual(channel):\n",
    "    kernel = np.ones((3, 3), dtype=np.float32) / 9  # 3x3 average kernel\n",
    "    filtered = np.zeros_like(channel, dtype=np.float32)\n",
    "    # Apply the filter manually\n",
    "    for i in range(1, channel.shape[0] - 1):\n",
    "        for j in range(1, channel.shape[1] - 1):\n",
    "            filtered[i, j] = np.sum(channel[i-1:i+2, j-1:j+2] * kernel)\n",
    "    return filtered[1:-1, 1:-1]  # Crop the filtered result back to original size\n",
    "\n",
    "# Step 4: Apply the manual average filter to each channel (R, G, B)\n",
    "R_channel = padded_image[:, :, 0]\n",
    "G_channel = padded_image[:, :, 1]\n",
    "B_channel = padded_image[:, :, 2]\n",
    "\n",
    "R_filtered_manual = apply_average_filter_manual(R_channel)\n",
    "G_filtered_manual = apply_average_filter_manual(G_channel)\n",
    "B_filtered_manual = apply_average_filter_manual(B_channel)\n",
    "\n",
    "# Step 5: Apply the OpenCV filter using cv2.filter2D\n",
    "def apply_opencv_filter(channel):\n",
    "    kernel = np.ones((3, 3), dtype=np.float32) / 9  # 3x3 average kernel\n",
    "    return cv2.filter2D(channel, -1, kernel)\n",
    "\n",
    "# Step 6: Apply the OpenCV filter to each channel (R, G, B)\n",
    "R_filtered_opencv = apply_opencv_filter(R_channel)\n",
    "G_filtered_opencv = apply_opencv_filter(G_channel)\n",
    "B_filtered_opencv = apply_opencv_filter(B_channel)\n",
    "\n",
    "# Step 7: Combine the filtered channels to form the final filtered image for both methods\n",
    "manual_filtered_image = np.stack([R_filtered_manual, G_filtered_manual, B_filtered_manual], axis=-1)\n",
    "opencv_filtered_image = np.stack([R_filtered_opencv, G_filtered_opencv, B_filtered_opencv], axis=-1)\n",
    "\n",
    "# Step 8: Plot the results\n",
    "plt.figure(figsize=(12, 8))\n",
    "\n",
    "# Original Image (with padding)\n",
    "plt.subplot(2, 2, 1)\n",
    "plt.imshow(image)\n",
    "plt.title(\"Original Image\")\n",
    "plt.axis('off')\n",
    "\n",
    "# Manually Filtered Image\n",
    "plt.subplot(2, 2, 2)\n",
    "plt.imshow(manual_filtered_image.astype(np.uint8))\n",
    "plt.title(\"Manually Filtered Image\")\n",
    "plt.axis('off')\n",
    "\n",
    "# OpenCV Filtered Image\n",
    "plt.subplot(2, 2, 3)\n",
    "plt.imshow(opencv_filtered_image.astype(np.uint8))\n",
    "plt.title(\"OpenCV Filtered Image\")\n",
    "plt.axis('off')\n",
    "\n",
    "plt.tight_layout()\n",
    "plt.show()\n"
   ]
  },
  {
   "cell_type": "code",
   "execution_count": null,
   "id": "dae4d915",
   "metadata": {},
   "outputs": [],
   "source": []
  }
 ],
 "metadata": {
  "kernelspec": {
   "display_name": "Python 3 (ipykernel)",
   "language": "python",
   "name": "python3"
  },
  "language_info": {
   "codemirror_mode": {
    "name": "ipython",
    "version": 3
   },
   "file_extension": ".py",
   "mimetype": "text/x-python",
   "name": "python",
   "nbconvert_exporter": "python",
   "pygments_lexer": "ipython3",
   "version": "3.9.16"
  }
 },
 "nbformat": 4,
 "nbformat_minor": 5
}
