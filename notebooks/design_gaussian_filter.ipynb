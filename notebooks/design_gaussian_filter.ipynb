{
 "cells": [
  {
   "cell_type": "code",
   "execution_count": 1,
   "id": "c9c796dc",
   "metadata": {},
   "outputs": [
    {
     "name": "stdout",
     "output_type": "stream",
     "text": [
      "3x3 Gaussian Filter with default sigma:\n",
      " [[0.01134374 0.08381951 0.01134374]\n",
      " [0.08381951 0.61934704 0.08381951]\n",
      " [0.01134374 0.08381951 0.01134374]]\n",
      "5x5 Gaussian Filter with sigma=1:\n",
      " [[0.00296902 0.01330621 0.02193823 0.01330621 0.00296902]\n",
      " [0.01330621 0.0596343  0.09832034 0.0596343  0.01330621]\n",
      " [0.02193823 0.09832034 0.16210282 0.09832034 0.02193823]\n",
      " [0.01330621 0.0596343  0.09832034 0.0596343  0.01330621]\n",
      " [0.00296902 0.01330621 0.02193823 0.01330621 0.00296902]]\n",
      "7x7 Gaussian Filter with sigma=2:\n",
      " [[0.00492233 0.00919612 0.01338028 0.01516185 0.01338028 0.00919612\n",
      "  0.00492233]\n",
      " [0.00919612 0.01718062 0.02499766 0.02832606 0.02499766 0.01718062\n",
      "  0.00919612]\n",
      " [0.01338028 0.02499766 0.03637138 0.04121417 0.03637138 0.02499766\n",
      "  0.01338028]\n",
      " [0.01516185 0.02832606 0.04121417 0.04670177 0.04121417 0.02832606\n",
      "  0.01516185]\n",
      " [0.01338028 0.02499766 0.03637138 0.04121417 0.03637138 0.02499766\n",
      "  0.01338028]\n",
      " [0.00919612 0.01718062 0.02499766 0.02832606 0.02499766 0.01718062\n",
      "  0.00919612]\n",
      " [0.00492233 0.00919612 0.01338028 0.01516185 0.01338028 0.00919612\n",
      "  0.00492233]]\n"
     ]
    }
   ],
   "source": [
    "import numpy as np\n",
    "\n",
    "def gaussian_filter(size, sigma=None):\n",
    "    \"\"\"\n",
    "    Generates a Gaussian filter (kernel) with specified size and standard deviation (sigma).\n",
    "    \n",
    "    Parameters:\n",
    "    - size (int): The size of the filter (e.g., 3 for 3x3, 5 for 5x5, etc.). Must be an odd number.\n",
    "    - sigma (float): The standard deviation of the Gaussian function. If None, it defaults to size / 6.\n",
    "    \n",
    "    Returns:\n",
    "    - kernel (numpy.ndarray): A normalized 2D Gaussian filter of the specified size.\n",
    "    \"\"\"\n",
    "    # Ensure the filter size is an odd number\n",
    "    if size % 2 == 0:\n",
    "        raise ValueError(\"Filter size must be an odd number.\")\n",
    "    \n",
    "    # Set sigma based on size if not provided\n",
    "    if sigma is None:\n",
    "        sigma = size / 6.0\n",
    "    \n",
    "    # Initialize the filter\n",
    "    kernel = np.zeros((size, size), dtype=np.float32)\n",
    "    \n",
    "    # Calculate the center position\n",
    "    center = size // 2\n",
    "    \n",
    "    # Fill the filter using the Gaussian formula\n",
    "    for i in range(size):\n",
    "        for j in range(size):\n",
    "            x, y = i - center, j - center\n",
    "            kernel[i, j] = np.exp(-(x**2 + y**2) / (2 * sigma**2))\n",
    "    \n",
    "    # Normalize the filter\n",
    "    kernel /= 2 * np.pi * sigma**2\n",
    "    kernel /= kernel.sum()\n",
    "    \n",
    "    return kernel\n",
    "\n",
    "# Example usage:\n",
    "gaussian_3x3 = gaussian_filter(3)\n",
    "gaussian_5x5_sigma_1 = gaussian_filter(5, sigma=1)\n",
    "gaussian_7x7_sigma_2 = gaussian_filter(7, sigma=2)\n",
    "\n",
    "print(\"3x3 Gaussian Filter with default sigma:\\n\", gaussian_3x3)\n",
    "print(\"5x5 Gaussian Filter with sigma=1:\\n\", gaussian_5x5_sigma_1)\n",
    "print(\"7x7 Gaussian Filter with sigma=2:\\n\", gaussian_7x7_sigma_2)\n"
   ]
  },
  {
   "cell_type": "code",
   "execution_count": null,
   "id": "faca62d0",
   "metadata": {},
   "outputs": [],
   "source": []
  }
 ],
 "metadata": {
  "kernelspec": {
   "display_name": "Python 3 (ipykernel)",
   "language": "python",
   "name": "python3"
  },
  "language_info": {
   "codemirror_mode": {
    "name": "ipython",
    "version": 3
   },
   "file_extension": ".py",
   "mimetype": "text/x-python",
   "name": "python",
   "nbconvert_exporter": "python",
   "pygments_lexer": "ipython3",
   "version": "3.9.16"
  }
 },
 "nbformat": 4,
 "nbformat_minor": 5
}
